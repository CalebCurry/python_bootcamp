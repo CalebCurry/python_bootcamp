{
 "cells": [
  {
   "cell_type": "markdown",
   "metadata": {
    "colab_type": "text",
    "id": "view-in-github"
   },
   "source": [
    "<a href=\"https://colab.research.google.com/github/CalebCurry/python_bootcamp/blob/main/week_one.ipynb\" target=\"_parent\"><img src=\"https://colab.research.google.com/assets/colab-badge.svg\" alt=\"Open In Colab\"/></a>"
   ]
  },
  {
   "cell_type": "markdown",
   "metadata": {
    "id": "yZIKFr26sEMF"
   },
   "source": [
    "# Introduction to Python\n",
    "\n",
    "[Python Website](https://www.python.org/).  \n",
    "\n",
    "[Python Brochure](https://brochure.getpython.info/)\n",
    "\n",
    "Few important things about Python.  \n",
    "\n",
    "*   Python is very lean\n",
    "*   Python is cross platform - runs through an interpreter\n",
    "*   Versatile - Unlimitted packages on PyPI (Python Package Index)\n",
    "*   Established (20 yrs+) but still fresh\n",
    "\n",
    "Foundational to Google.  \n",
    "Used by services like bit.ly. \n",
    "SurveyMonkey.  \n",
    "scientific computing for aerospace research and particle research at CERN.  \n",
    "and literally like a million other exammples given.  \n",
    "\n",
    "Ideal for automation, web development, scientific computing, and big data + ML. "
   ]
  },
  {
   "cell_type": "markdown",
   "metadata": {
    "id": "Vpvq-gqsP7W0"
   },
   "source": [
    "# Important takeways:\n",
    "\n",
    "A **module** allows us to import existing code to use in our project. \n",
    "\n",
    "A module is an **object**, and objects have **members**.\n",
    "\n",
    "The two member types are **methods** and **attributes**.\n",
    "\n",
    "**Methods** are the same as functions like we talked about in the previous episode, but they are attached to objects and need the dot operator to be invoked. \n",
    "\n",
    "Data is **passed** in to the method as an argument.\n",
    "\n",
    "**Methods** have the ability to **return** data, which can then be assigned to a variable. \n",
    "\n",
    "requests.get() returns a response, which is an object with its own members. "
   ]
  },
  {
   "cell_type": "code",
   "execution_count": null,
   "metadata": {
    "colab": {
     "base_uri": "https://localhost:8080/"
    },
    "id": "QiFLRwB5vg3S",
    "outputId": "0b021abc-47ad-49a2-9aec-b73c5dce7b03"
   },
   "outputs": [
    {
     "name": "stdout",
     "output_type": "stream",
     "text": [
      "{\"id\":\"685fc882-1aed-49a0-9a6f-8694193d61a1\",\"text\":\"A crocodile cannot stick its tongue out.\",\"source\":\"djtech.net\",\"source_url\":\"http:\\/\\/www.djtech.net\\/humor\\/useless_facts.htm\",\"language\":\"en\",\"permalink\":\"https:\\/\\/uselessfacts.jsph.pl\\/685fc882-1aed-49a0-9a6f-8694193d61a1\"}\n"
     ]
    }
   ],
   "source": [
    "import requests\n",
    "\n",
    "response = requests.get('https://uselessfacts.jsph.pl/random.json?language=en')\n",
    "\n",
    "print(response.text)"
   ]
  },
  {
   "cell_type": "markdown",
   "metadata": {
    "id": "dm55k4o4PiV5"
   },
   "source": [
    "We can also display without the print() function as the code is executed in interactive mode:\n"
   ]
  },
  {
   "cell_type": "code",
   "execution_count": null,
   "metadata": {
    "colab": {
     "base_uri": "https://localhost:8080/",
     "height": 70
    },
    "id": "6Gg7bG2PPdj-",
    "outputId": "5b666fb4-923d-4ab0-b505-6fa55d498e17"
   },
   "outputs": [
    {
     "data": {
      "application/vnd.google.colaboratory.intrinsic+json": {
       "type": "string"
      },
      "text/plain": [
       "'{\"id\":\"685fc882-1aed-49a0-9a6f-8694193d61a1\",\"text\":\"A crocodile cannot stick its tongue out.\",\"source\":\"djtech.net\",\"source_url\":\"http:\\\\/\\\\/www.djtech.net\\\\/humor\\\\/useless_facts.htm\",\"language\":\"en\",\"permalink\":\"https:\\\\/\\\\/uselessfacts.jsph.pl\\\\/685fc882-1aed-49a0-9a6f-8694193d61a1\"}'"
      ]
     },
     "execution_count": 27,
     "metadata": {
      "tags": []
     },
     "output_type": "execute_result"
    }
   ],
   "source": [
    "response.text"
   ]
  },
  {
   "cell_type": "markdown",
   "metadata": {
    "id": "B6wwNoPURBuC"
   },
   "source": [
    " Below we go through a variation of the above code. In this example we define our **query parameters** in a separate dictionary. These are then passed as an argument to the **params** parameter of requests.get().\n",
    "\n",
    "We also use response.json() instead of response.text to get the response data as a dictionary.\n",
    "\n",
    "Python dictionaries have a .get() method that can be used to grab a particular element, such as 'text' (this value depends on the API we are consuming)"
   ]
  },
  {
   "cell_type": "code",
   "execution_count": null,
   "metadata": {
    "colab": {
     "base_uri": "https://localhost:8080/"
    },
    "id": "GAvRMWRFL9Rn",
    "outputId": "0ee058b6-8a40-4f19-a4e5-2698264d509b"
   },
   "outputs": [
    {
     "name": "stdout",
     "output_type": "stream",
     "text": [
      "A jellyfish is 95 percent water!\n"
     ]
    }
   ],
   "source": [
    "query_parameters={\n",
    "    'language':'en'\n",
    "}\n",
    "response = requests.get('https://uselessfacts.jsph.pl/random.json', params=query_parameters)\n",
    "\n",
    "print(response.json().get('text'))"
   ]
  },
  {
   "cell_type": "markdown",
   "metadata": {
    "id": "J3oRewM-TQ3m"
   },
   "source": [
    "# Data Structures\n",
    "The **important** ones are lists, dictionaries, and sets."
   ]
  },
  {
   "cell_type": "code",
   "execution_count": null,
   "metadata": {
    "colab": {
     "base_uri": "https://localhost:8080/"
    },
    "id": "V_PjCFLjSRu-",
    "outputId": "2efc3ede-a951-4683-dde0-26d0a546ce5c"
   },
   "outputs": [
    {
     "name": "stdout",
     "output_type": "stream",
     "text": [
      "You\n",
      "['Caleb', 'You', 'Jimmy', ['hello'], 5]\n"
     ]
    }
   ],
   "source": [
    " data = ['Caleb', 'You']\n",
    "print(data[1])\n",
    "\n",
    "data.append('Jimmy')\n",
    "data.append(['hello'])\n",
    "data.append(5)\n",
    "\n",
    "print(data)"
   ]
  },
  {
   "cell_type": "markdown",
   "metadata": {
    "id": "CHXJNvmwWObF"
   },
   "source": [
    "## List Slicing\n",
    "first number - starting position (inclusive).  \n",
    "second number - stopping position (exclusive).  \n",
    "third number - step.  \n"
   ]
  },
  {
   "cell_type": "code",
   "execution_count": null,
   "metadata": {
    "colab": {
     "base_uri": "https://localhost:8080/"
    },
    "id": "msbXxjA1Vaqv",
    "outputId": "ca9191fe-5431-4671-9a0a-cf23829cf97d"
   },
   "outputs": [
    {
     "name": "stdout",
     "output_type": "stream",
     "text": [
      "['Jimmy', 'Monica']\n"
     ]
    }
   ],
   "source": [
    "data = ['Caleb', 'Jimmy', 'Samantha', 'Monica']\n",
    "\n",
    "print(data[1:4:2])"
   ]
  },
  {
   "cell_type": "markdown",
   "metadata": {
    "id": "dVCLpDbhW8ZY"
   },
   "source": [
    "# Dictionaries and Sets"
   ]
  },
  {
   "cell_type": "code",
   "execution_count": null,
   "metadata": {
    "colab": {
     "base_uri": "https://localhost:8080/"
    },
    "id": "gL8Z3Xo-VaqE",
    "outputId": "e23fcd9e-314a-45b0-e99e-d81fb1c3d9b6"
   },
   "outputs": [
    {
     "name": "stdout",
     "output_type": "stream",
     "text": [
      "{'Caleb', 'Jimmy', 'Monica', 'Samantha'}\n",
      "4\n"
     ]
    }
   ],
   "source": [
    "data = {'Caleb', 'Jimmy', 'Samantha', 'Monica', 'Caleb'}\n",
    "\n",
    "data_dictionary = {\n",
    "    'Caleb': 5,\n",
    "    'Jimmy': 10,\n",
    "    'Samantha': 12,\n",
    "    'Monica': 20,\n",
    "    'Caleb': 4\n",
    "}\n",
    "\n",
    "print(data)\n",
    "print(data_dictionary.get('Caleb'))"
   ]
  },
  {
   "cell_type": "markdown",
   "metadata": {
    "id": "CfWGVQJFVygz"
   },
   "source": [
    "# Control flow - Loops and Conditionals\n",
    "\n",
    "Iteration - One time through the loop."
   ]
  },
  {
   "cell_type": "code",
   "execution_count": null,
   "metadata": {
    "colab": {
     "base_uri": "https://localhost:8080/"
    },
    "id": "0wsKNIRYWkCh",
    "outputId": "30ddb7e5-c673-4e29-f381-168266fe4568"
   },
   "outputs": [
    {
     "name": "stdout",
     "output_type": "stream",
     "text": [
      "0 1 2 3 4 5 6 7 8 9 \n",
      "a b c d e \n",
      "0 a 1 b 2 c 3 d 4 e "
     ]
    }
   ],
   "source": [
    "data = ['a', 'b', 'c', 'd', 'e']\n",
    "\n",
    "for i in range(10):\n",
    "  print(i, end=\" \")\n",
    "\n",
    "print(\"\")\n",
    "for letter in data:\n",
    "  print(letter, end=\" \")\n",
    "\n",
    "print(\"\")\n",
    "for i, letter in enumerate(data):\n",
    "  print(i, letter, end=\" \")"
   ]
  },
  {
   "cell_type": "code",
   "execution_count": null,
   "metadata": {
    "colab": {
     "base_uri": "https://localhost:8080/"
    },
    "id": "jRmOnTbtakSz",
    "outputId": "248ea4d1-da4e-4544-edcd-af75115fb565"
   },
   "outputs": [
    {
     "name": "stdout",
     "output_type": "stream",
     "text": [
      "a b c d e hello\n",
      "it wasnt stop or special\n",
      "printing data...\n",
      "special\n",
      "stop\n"
     ]
    }
   ],
   "source": [
    "data = ['a', 'b', 'c', 'd', 'e']\n",
    "\n",
    "i = 0\n",
    "\n",
    "while i < len(data):\n",
    "  print(data[i], end=\" \")\n",
    "  i += 1\n",
    "\n",
    "while True:\n",
    "  x = input()\n",
    "  if x == \"stop\":\n",
    "    break  \n",
    "  elif x == \"special\":\n",
    "    continue\n",
    "  print(\"it wasnt stop or special\")\n",
    "  print(\"printing data...\")"
   ]
  },
  {
   "cell_type": "code",
   "execution_count": null,
   "metadata": {
    "colab": {
     "base_uri": "https://localhost:8080/"
    },
    "id": "hebrYaj1b8Cr",
    "outputId": "c3181d45-f129-41e8-df75-b65769cd6482"
   },
   "outputs": [
    {
     "name": "stdout",
     "output_type": "stream",
     "text": [
      "Caleb 4\n",
      "Jimmy 10\n",
      "Samantha 12\n",
      "Monica 20\n"
     ]
    }
   ],
   "source": [
    "data_dictionary = {\n",
    "    'Caleb': 5,\n",
    "    'Jimmy': 10,\n",
    "    'Samantha': 12,\n",
    "    'Monica': 20,\n",
    "    'Caleb': 4\n",
    "}\n",
    "\n",
    "for key, value in data_dictionary.items():\n",
    "  print(key, value)"
   ]
  },
  {
   "cell_type": "markdown",
   "metadata": {
    "id": "ViZGA5NRgUy7"
   },
   "source": [
    "# Putting it all together + Custom Function\n"
   ]
  },
  {
   "cell_type": "code",
   "execution_count": null,
   "metadata": {
    "colab": {
     "base_uri": "https://localhost:8080/"
    },
    "id": "_7u-n59AgcZl",
    "outputId": "696fbc78-76b4-4e57-b5d1-da726e8d7963"
   },
   "outputs": [
    {
     "name": "stdout",
     "output_type": "stream",
     "text": [
      "Meteorologists claim they`re right 85% of the time (think about that one!)\n",
      "Dentists have recommended that a toothbrush be kept at least 6 feet away from a toilet to avoid airborne particles resulting from the flush.\n",
      "There is approximately one chicken for every human being in the world.\n"
     ]
    }
   ],
   "source": [
    "import requests\n",
    "\n",
    "def get_facts(count=1):\n",
    "  facts = []\n",
    "  while count:\n",
    "    response = requests.get('https://uselessfacts.jsph.pl/random.json?language=en')\n",
    "    facts.append(response.json().get('text'))\n",
    "    count -= 1\n",
    "\n",
    "  return facts\n",
    "\n",
    "for fact in get_facts(3):\n",
    "  print(fact)\n"
   ]
  },
  {
   "cell_type": "markdown",
   "metadata": {
    "id": "s2LjskeX3ikt"
   },
   "source": [
    "## Here is an example with try / except"
   ]
  },
  {
   "cell_type": "code",
   "execution_count": null,
   "metadata": {
    "colab": {
     "base_uri": "https://localhost:8080/"
    },
    "id": "483RyUso266D",
    "outputId": "23f77bf1-9602-4b13-cb69-d33ba256c712"
   },
   "outputs": [
    {
     "name": "stdout",
     "output_type": "stream",
     "text": [
      "Cannot connect\n"
     ]
    }
   ],
   "source": [
    "import requests\n",
    "\n",
    "def get_facts(count=1):\n",
    "  facts = []\n",
    "  while count:\n",
    "    try:\n",
    "      response = requests.get('broken website')\n",
    "      facts.append(response.json().get('text'))\n",
    "      count -= 1\n",
    "    except:\n",
    "      print('Cannot connect')\n",
    "      break\n",
    "\n",
    "  return facts\n",
    "\n",
    "for fact in get_facts(3):\n",
    "  print(fact)\n"
   ]
  },
  {
   "cell_type": "markdown",
   "metadata": {
    "id": "1ItUyHmi_G0J"
   },
   "source": [
    "# Guessing game\n",
    "Generate a random number -- random module\n",
    "\n",
    "do while - Python doesn't have this built in.  \n",
    "  do something once -- possibly repeat it.  \n",
    "  Ask us for a number. If we get it wrong, ask again.  \n",
    "\n",
    "\n",
    "logic for right / wrong: \n",
    "  guessed == correct value\n",
    "  "
   ]
  },
  {
   "cell_type": "code",
   "execution_count": null,
   "metadata": {
    "colab": {
     "base_uri": "https://localhost:8080/"
    },
    "id": "zlcnNtsDEdzC",
    "outputId": "b1dd9767-b223-4f6a-e2c3-79f5058a8af2"
   },
   "outputs": [
    {
     "name": "stdout",
     "output_type": "stream",
     "text": [
      "Guess a number between 0 and 100.\n",
      "6\n",
      "Guess higher\n",
      "100\n",
      "Guess lower\n",
      "50\n",
      "Guess lower\n",
      "25\n",
      "Guess lower\n",
      "12\n",
      "Guess higher\n",
      "18\n",
      "You win!\n"
     ]
    }
   ],
   "source": [
    "from random import randint\n",
    "low = 0\n",
    "high = 100\n",
    "correct = randint(low, high)\n",
    "print(f'Guess a number between {low} and {high}.')\n",
    "while True:\n",
    "  guess = int(input())\n",
    "\n",
    "  if guess < correct:\n",
    "    print(\"Guess higher\")\n",
    "  elif guess > correct:\n",
    "    print(\"Guess lower\")\n",
    "  else:\n",
    "    print(\"You win!\")\n",
    "    break\n"
   ]
  },
  {
   "cell_type": "code",
   "execution_count": 147,
   "metadata": {
    "colab": {
     "base_uri": "https://localhost:8080/"
    },
    "id": "KSVkhgm3NeEH",
    "outputId": "fb1ed77e-5421-4566-fded-4b99a49b8851"
   },
   "outputs": [
    {
     "name": "stdout",
     "output_type": "stream",
     "text": [
      "Done!\n"
     ]
    }
   ],
   "source": [
    "print(\"Small change\")"
   ]
  }
 ],
 "metadata": {
  "colab": {
   "authorship_tag": "ABX9TyMcC5RcBDJsnZo44QUhMDgT",
   "collapsed_sections": [],
   "include_colab_link": true,
   "name": "week_one.ipynb",
   "provenance": []
  },
  "kernelspec": {
   "display_name": "Python 3",
   "language": "python",
   "name": "python3"
  },
  "language_info": {
   "codemirror_mode": {
    "name": "ipython",
    "version": 3
   },
   "file_extension": ".py",
   "mimetype": "text/x-python",
   "name": "python",
   "nbconvert_exporter": "python",
   "pygments_lexer": "ipython3",
   "version": "3.9.0"
  }
 },
 "nbformat": 4,
 "nbformat_minor": 4
}
